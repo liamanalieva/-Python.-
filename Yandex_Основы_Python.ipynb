{
  "nbformat": 4,
  "nbformat_minor": 0,
  "metadata": {
    "colab": {
      "provenance": []
    },
    "kernelspec": {
      "name": "python3",
      "display_name": "Python 3"
    },
    "language_info": {
      "name": "python"
    }
  },
  "cells": [
    {
      "cell_type": "markdown",
      "source": [
        "# **2.1. Ввод и вывод данных. Операции с числами, строками. Форматирование**\n",
        "\n",
        "---\n",
        "\n"
      ],
      "metadata": {
        "id": "viqG3iLCp2dm"
      }
    },
    {
      "cell_type": "markdown",
      "source": [
        "# **Украшение чека**\n",
        "\n",
        "Давайте приведём в порядок чек, который печатали ранее.\n",
        "Все строки должны быть длиной в 35 символов.\n",
        "\n",
        "*Формат ввода*\n",
        "\n",
        "    Название товара;\n",
        "    цена товара;\n",
        "    вес товара;\n",
        "    количество денег у пользователя.\n",
        "*Формат вывода*\n",
        "```\n",
        "================Чек================\n",
        "Товар:                    <продукт>\n",
        "Цена:     <число>кг * <число>руб/кг\n",
        "Итого:                   <число>руб\n",
        "Внесено:                 <число>руб\n",
        "Сдача:                   <число>руб\n",
        "===================================\n",
        "```"
      ],
      "metadata": {
        "id": "CsdKi_HSnxud"
      }
    },
    {
      "cell_type": "code",
      "execution_count": 3,
      "metadata": {
        "id": "wU2stSQEym8z",
        "colab": {
          "base_uri": "https://localhost:8080/"
        },
        "outputId": "89d1fa2f-23c2-428f-ae64-60c17734c865"
      },
      "outputs": [
        {
          "output_type": "stream",
          "name": "stdout",
          "text": [
            "манго\n",
            "187\n",
            "43\n",
            "8041\n",
            "================Чек================\n",
            "Товар:                        манго\n",
            "Цена:              43кг * 187руб/кг\n",
            "Итого:                      8041руб\n",
            "Внесено:                    8041руб\n",
            "Сдача:                         0руб\n",
            "===================================\n"
          ]
        }
      ],
      "source": [
        "name = input()\n",
        "price = int(input())\n",
        "weight = int(input())\n",
        "cash = int(input())\n",
        "total = price * weight \n",
        "change = cash - total\n",
        "rub = len('руб')\n",
        "print('=' * 16, 'Чек', '=' * 16, sep = \"\")\n",
        "name_1 = ((35 - len(\"Товар:\") - len(name)) * \" \")\n",
        "price_1 = ((35 - len(\"Цена:\") - len(str(price)) - len(str(weight)) - len(str(\"кг\")) - len(str(\"руб/кг\")) - 3) * \" \")\n",
        "total_1 = ((35 - len(\"Итого:\") - len(str(total)) - rub) * \" \")\n",
        "cash_1 = ((35 - len(\"Внесено:\") - len(str(cash))- rub) * \" \")\n",
        "change_1 = ((35 - len(\"Сдача:\") - len(str(change)) - rub) * \" \")\n",
        "print(f'Товар:{name_1}{name}\\nЦена:{price_1}{weight}кг * {price}руб/кг')\n",
        "print(f'Итого:{total_1}{total}руб\\nВнесено:{cash_1}{cash}руб\\nСдача:{change_1}{change}руб')\n",
        "print('=' * 35, sep = \"\")"
      ]
    },
    {
      "cell_type": "markdown",
      "source": [
        "# **Мухи отдельно, котлеты отдельно**\n",
        "\n",
        "Помогите ему разобраться с одной проблемой. Далее его история: «Пару дней назад я купил две партии котлет и по случайности высыпал их на один прилавок. Общий вес котлет составил N килограмм, а ценник — M рублей за килограмм.\n",
        "Сегодня я обнаружил, что накладные на эти виды котлет потерялись, но я помню, что первый вид котлет стоил K1 рублей за килограмм, а второй — K2.\n",
        "\n",
        "Помогите мне вспомнить вес каждой партии котлет, чтобы поставить их на учёт.\n",
        "\n",
        "## *Формат ввода*\n",
        "\n",
        "В первой строке записано натуральное число N\n",
        "Во второй строке — натуральное число MM\n",
        "В третьей строке — натуральное число K1\n",
        "В четвёртой строке — натуральное число K2\n",
        "Причём доподлинно известно, что второй вид котлет стоит меньше, чем первый.\n",
        "\n",
        "## *Формат вывода*\n",
        "\n",
        "Два натуральных числа, записанных через пробел — вес обеих партий котлет."
      ],
      "metadata": {
        "id": "IWSawbi8o7xH"
      }
    },
    {
      "cell_type": "code",
      "source": [
        "total_weight = int(input())\n",
        "price = int(input())\n",
        "price_1 = int(input())\n",
        "price_2 = int(input())\n",
        "\n",
        "weight_2 = int((total_weight * price - price_1 * total_weight)/(price_2 - price_1)) \n",
        "weight_1 = int(total_weight - weight_2) \n",
        "print(weight_1, weight_2)\n"
      ],
      "metadata": {
        "id": "07pJbPLVDQnG",
        "colab": {
          "base_uri": "https://localhost:8080/"
        },
        "outputId": "b39752cf-5aff-430e-a0fc-154ce663ac51"
      },
      "execution_count": null,
      "outputs": [
        {
          "output_type": "stream",
          "name": "stdout",
          "text": [
            "32\n",
            "285\n",
            "300\n",
            "240\n",
            "24 8\n"
          ]
        }
      ]
    },
    {
      "cell_type": "markdown",
      "source": [
        "# **2.2. Условный оператор**\n",
        "\n",
        "---\n",
        "# **Просто здравствуй, просто как дела**\n",
        "Умение вести диалог — важный навык для воспитанного человека.\n",
        "\n",
        "Напишите диалоговую программу, которая сначала познакомится с пользователем, а затем поинтересуется его настроением.\n",
        "\n",
        "# *Формат ввода*\n",
        "\n",
        "В первой строке записано имя пользователя.\n",
        "Во второй — ответ на вопрос: «хорошо» или «плохо».\n",
        "\n",
        "# *Формат вывода*\n",
        "\n",
        "В первой строке должен быть вопрос «Как Вас зовут?» \n",
        "Во второй строке — «Здравствуйте, %username%!»\n",
        "В третьей строке — вопрос «Как дела?»\n",
        "В четвёртой строке реакция на ответ пользователя:\n",
        "\n",
        "    если пользователь ответил «хорошо», следует вывести сообщение «Я за вас рада!»;\n",
        "    если пользователь ответил «плохо», следует вывести сообщение «Всё наладится!».\n"
      ],
      "metadata": {
        "id": "v-SHgsE3qgHF"
      }
    },
    {
      "cell_type": "code",
      "source": [
        "print(\"Как Вас зовут?\")\n",
        "name = input()\n",
        "print(f\"Здравствуйте, {name}!\")\n",
        "print(\"Как дела?\")\n",
        "q = input()\n",
        "if q == \"хорошо\":\n",
        "    print(\"Я за вас рада!\")\n",
        "else:\n",
        "    print(\"Всё наладится!\")"
      ],
      "metadata": {
        "colab": {
          "base_uri": "https://localhost:8080/"
        },
        "id": "SbjkupWww6N7",
        "outputId": "b6d28b42-ff7d-4c5d-978f-a951f59bc7d4"
      },
      "execution_count": null,
      "outputs": [
        {
          "output_type": "stream",
          "name": "stdout",
          "text": [
            "Как Вас зовут?\n",
            "Боря\n",
            "Здравствуйте, Боря!\n",
            "Как дела?\n",
            "плохо\n",
            "Всё наладится!\n"
          ]
        }
      ]
    },
    {
      "cell_type": "markdown",
      "source": [
        "# **Список победителей**\n",
        "Длинна трассы — 43872м, а зрители хотят узнать имя победителя.\n",
        "\n",
        "Нам известны средние скорости трёх фаворитов – Пети, Васи и Толи. Помогите подвести итоги гонки.\n",
        "\n",
        "# *Формат ввода*\n",
        "\n",
        "В первой строке записана средняя скорость Пети.\n",
        "Во второй — Васи.\n",
        "В третьей — Толи.\n",
        "\n",
        "# *Формат вывода*\n",
        "\n",
        "Имена победителей в порядке занятых мест."
      ],
      "metadata": {
        "id": "OMSPi-fbrUtD"
      }
    },
    {
      "cell_type": "code",
      "source": [
        "Peter = int(input())\n",
        "Vasya = int(input())\n",
        "Tolya = int(input())\n",
        "if Peter == max(Peter, Vasya, Tolya) and Vasya > Tolya:\n",
        "    print(f'1. Петя\\n2. Вася\\n3. Толя')\n",
        "elif Peter == max(Peter, Vasya, Tolya) and Tolya > Vasya:\n",
        "    print(f'1. Петя\\n2. Толя\\n3. Вася')\n",
        "elif Vasya == max(Peter, Vasya, Tolya) and Tolya > Peter:\n",
        "    print(f'1. Вася\\n2. Толя\\n3. Петя')\n",
        "elif Vasya == max(Peter, Vasya, Tolya) and Peter > Tolya:\n",
        "    print(f'1. Вася\\n2. Петя\\n3. Толя')\n",
        "elif Tolya == max(Peter, Vasya, Tolya) and Peter > Vasya:\n",
        "    print(f'1. Толя\\n2. Петя\\n3. Вася')\n",
        "else:\n",
        "    print(f'1. Толя\\n2. Вася\\n3. Петя')"
      ],
      "metadata": {
        "colab": {
          "base_uri": "https://localhost:8080/"
        },
        "id": "Df7gbIvE2U8k",
        "outputId": "3f4f6590-27e3-47e9-9ecd-0f5cad8c5d30"
      },
      "execution_count": null,
      "outputs": [
        {
          "output_type": "stream",
          "name": "stdout",
          "text": [
            "5\n",
            "7\n",
            "10\n",
            "1. Толя\n",
            "2. Вася\n",
            "3. Петя\n"
          ]
        }
      ]
    },
    {
      "cell_type": "markdown",
      "source": [
        "# **Яблоки**\n",
        "\n",
        "У Пети было 7 яблок, а у Васи 6. Затем Петя отдал 3 яблока Васе, а у Толи взял 2 яблока. Вася попросил у Толи 5 яблок, но он отдал Гене 2. Затем Дима дал Пете N яблок, а Васе M. Так у кого в итоге яблок больше — у Пети или Васи?\n",
        "\n",
        "# *Формат ввода*\n",
        "\n",
        "В первой строке записано натуральное число N. Во второй — M.\n",
        "\n",
        "# *Формат вывода*\n",
        "\n",
        "Имя ребёнка, у которого больше яблок."
      ],
      "metadata": {
        "id": "rfKpRTFMrrFD"
      }
    },
    {
      "cell_type": "code",
      "source": [
        "N = int(input())\n",
        "M = int(input())\n",
        "Petya = 7\n",
        "Vasya = 6\n",
        "Petya_apple = Petya - 3 + 2\n",
        "Vasya_apple = Vasya + 5 - 2\n",
        "Petya_app = Petya_apple + N\n",
        "Vasya_app = Vasya_apple + M\n",
        "if Petya_app > Vasya_app:\n",
        "    print('Петя')\n",
        "else:\n",
        "    print('Вася')"
      ],
      "metadata": {
        "colab": {
          "base_uri": "https://localhost:8080/"
        },
        "id": "YQ2QcehQTi8o",
        "outputId": "e6de97ff-eb42-4185-80a0-bad15737ca50"
      },
      "execution_count": null,
      "outputs": [
        {
          "output_type": "stream",
          "name": "stdout",
          "text": [
            "10\n",
            "2\n",
            "Петя\n"
          ]
        }
      ]
    },
    {
      "cell_type": "markdown",
      "source": [
        "# **Сила прокрастинации**\n",
        "Вася любит полениться. Особенно ему нравится, когда в году появляется такой лишний денёк, которого обычно не бывает. Напишите программу, которая поможет Васе определить, удастся ли ему побездельничать в определённом году или нет.\n",
        "\n",
        "# *Формат ввода*\n",
        "Одно число — год.\n",
        "# *Формат вывода*\n",
        "Одно слово «YES» (удастся) или «NO» (не удастся)."
      ],
      "metadata": {
        "id": "L4FhjYcIsD8S"
      }
    },
    {
      "cell_type": "code",
      "source": [
        "year =  int(input())\n",
        "if (year % 100) == 0:\n",
        "    if (year % 400) == 0:\n",
        "        print('YES')\n",
        "    else:\n",
        "        print('NO')\n",
        "elif (year % 4) == 0:\n",
        "    print('YES')\n",
        "else:\n",
        "    print('NO')"
      ],
      "metadata": {
        "colab": {
          "base_uri": "https://localhost:8080/"
        },
        "id": "eSteSjDSy64i",
        "outputId": "456fc131-b74c-4366-addc-0d8e56837aa5"
      },
      "execution_count": null,
      "outputs": [
        {
          "output_type": "stream",
          "name": "stdout",
          "text": [
            "2020\n",
            "YES\n"
          ]
        }
      ]
    },
    {
      "cell_type": "markdown",
      "source": [
        "# **А роза упала на лапу Азора**\n",
        "Существуют такое интересное понятие как палиндром — число, слово, предложение и так далее, которое и слева-направо, и справа-налево читается одинаково. Напишите программу, которая проверяет, является ли число палиндромом.\n",
        "\n",
        "# *Формат ввода*\n",
        "Одно четырёхзначное число\n",
        "\n",
        "# *Формат вывода*\n",
        "YES если число является палиндромом, иначе — NO."
      ],
      "metadata": {
        "id": "G6y0O3uescUd"
      }
    },
    {
      "cell_type": "code",
      "source": [
        "x = int(input())\n",
        "x1 = x // 1000\n",
        "x2 = x // 100 % 10\n",
        "x3 = x // 10 % 10\n",
        "x4 = x % 10\n",
        "if x1 == x4 and x2 == x3:\n",
        "  print(\"YES\")\n",
        "else:\n",
        "  print(\"NO\")"
      ],
      "metadata": {
        "colab": {
          "base_uri": "https://localhost:8080/"
        },
        "id": "zNH-YwUk0SfJ",
        "outputId": "a0d9add9-63d5-4104-92a2-aa9aba04c8fa"
      },
      "execution_count": null,
      "outputs": [
        {
          "output_type": "stream",
          "name": "stdout",
          "text": [
            "7665\n",
            "NO\n"
          ]
        }
      ]
    },
    {
      "cell_type": "markdown",
      "source": [
        "# **Зайка — 1**\n",
        "В долгой дороге дети могут капризничать, поэтому родители их развлекают с помощью игр. Одна из них — поиск различных зверушек в придорожной растительности. Давайте немного поиграем и выясним, не спрятался ли зайка во введённом предложении.\n",
        "# *Формат ввода*\n",
        "Строка описывающая придорожную местность.\n",
        "# *Формат вывода*\n",
        "YES — если в этой местности есть зайка, иначе — NO."
      ],
      "metadata": {
        "id": "QZ09wHXjsy9I"
      }
    },
    {
      "cell_type": "code",
      "source": [
        "x = input()\n",
        "if \"зайка\" in x:\n",
        "  print('YES')\n",
        "else: \n",
        "  print('NO')"
      ],
      "metadata": {
        "colab": {
          "base_uri": "https://localhost:8080/"
        },
        "id": "HwhSgGh74nPn",
        "outputId": "0c70ede9-cde3-4444-cead-0b673d1badc7"
      },
      "execution_count": null,
      "outputs": [
        {
          "output_type": "stream",
          "name": "stdout",
          "text": [
            "сосна сосна сосна елочка грибочки медведь\n",
            "NO\n"
          ]
        }
      ]
    },
    {
      "cell_type": "markdown",
      "source": [
        "# **Первому игроку приготовиться**\n",
        "Во многих играх порядок определяется броском кубика или монетки, — а в нашей первым ходит тот, чьё имя лексикографически меньше. Определите, кто из игроков будет ходить первым.\n",
        "\n",
        "# *Формат ввода*\n",
        "Три имени игроков, каждое из которых записано с новой строки.\n",
        "# *Формат вывода*\n",
        "Имя игрока, который будет ходить первым."
      ],
      "metadata": {
        "id": "JuFJ-cUBtE3o"
      }
    },
    {
      "cell_type": "code",
      "source": [
        "x = input()\n",
        "y = input()\n",
        "z = input()\n",
        "print(min(x, y, z))"
      ],
      "metadata": {
        "colab": {
          "base_uri": "https://localhost:8080/"
        },
        "id": "W3A-tDaL6laS",
        "outputId": "3b9e902d-6152-42df-d2ce-a1e10e0e28f8"
      },
      "execution_count": null,
      "outputs": [
        {
          "output_type": "stream",
          "name": "stdout",
          "text": [
            "толя\n",
            "коля\n",
            "вася\n",
            "вася\n"
          ]
        }
      ]
    }
  ]
}